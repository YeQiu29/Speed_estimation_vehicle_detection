{
  "nbformat": 4,
  "nbformat_minor": 0,
  "metadata": {
    "colab": {
      "provenance": [],
      "gpuType": "T4"
    },
    "kernelspec": {
      "name": "python3",
      "display_name": "Python 3"
    },
    "language_info": {
      "name": "python"
    },
    "accelerator": "GPU"
  },
  "cells": [
    {
      "cell_type": "code",
      "source": [
        "!git clone https://github.com/roboflow/supervision.git\n",
        "%cd supervision/examples/speed_estimation"
      ],
      "metadata": {
        "colab": {
          "base_uri": "https://localhost:8080/"
        },
        "id": "CMdT0WqqiRQh",
        "outputId": "e18d2989-f37b-457e-bdf0-9d6387aae3a3"
      },
      "execution_count": 2,
      "outputs": [
        {
          "output_type": "stream",
          "name": "stdout",
          "text": [
            "Cloning into 'supervision'...\n",
            "remote: Enumerating objects: 8364, done.\u001b[K\n",
            "remote: Counting objects: 100% (3434/3434), done.\u001b[K\n",
            "remote: Compressing objects: 100% (863/863), done.\u001b[K\n",
            "remote: Total 8364 (delta 2841), reused 2933 (delta 2532), pack-reused 4930\u001b[K\n",
            "Receiving objects: 100% (8364/8364), 43.10 MiB | 28.09 MiB/s, done.\n",
            "Resolving deltas: 100% (5791/5791), done.\n",
            "/content/supervision/examples/speed_estimation\n"
          ]
        }
      ]
    },
    {
      "cell_type": "code",
      "execution_count": 3,
      "metadata": {
        "colab": {
          "base_uri": "https://localhost:8080/"
        },
        "id": "vsnoE2DZiIfv",
        "outputId": "bcaa18ee-ff7d-47ed-bfd3-caa4e9036258"
      },
      "outputs": [
        {
          "output_type": "stream",
          "name": "stdout",
          "text": [
            "git: 'https://github.com/roboflow/supervision/tree/develop/examples/speed_estimation' is not a git command. See 'git --help'.\n"
          ]
        }
      ],
      "source": [
        "!git https://github.com/roboflow/supervision/tree/develop/examples/speed_estimation"
      ]
    },
    {
      "cell_type": "code",
      "source": [
        "# Install virtualenv package\n",
        "!pip install virtualenv\n",
        "\n",
        "# Create a virtual environment named 'venv'\n",
        "!python3 -m virtualenv venv\n",
        "\n",
        "# Activate the virtual environment\n",
        "!source venv/bin/activate"
      ],
      "metadata": {
        "colab": {
          "base_uri": "https://localhost:8080/"
        },
        "id": "JeNOwPQ-ioQA",
        "outputId": "b7cdd131-93ac-4aec-d7ed-9b337bb6fd26"
      },
      "execution_count": 8,
      "outputs": [
        {
          "output_type": "stream",
          "name": "stdout",
          "text": [
            "Collecting virtualenv\n",
            "  Downloading virtualenv-20.25.0-py3-none-any.whl (3.8 MB)\n",
            "\u001b[2K     \u001b[90m━━━━━━━━━━━━━━━━━━━━━━━━━━━━━━━━━━━━━━━━\u001b[0m \u001b[32m3.8/3.8 MB\u001b[0m \u001b[31m26.7 MB/s\u001b[0m eta \u001b[36m0:00:00\u001b[0m\n",
            "\u001b[?25hCollecting distlib<1,>=0.3.7 (from virtualenv)\n",
            "  Downloading distlib-0.3.8-py2.py3-none-any.whl (468 kB)\n",
            "\u001b[2K     \u001b[90m━━━━━━━━━━━━━━━━━━━━━━━━━━━━━━━━━━━━━━━━\u001b[0m \u001b[32m468.9/468.9 kB\u001b[0m \u001b[31m46.2 MB/s\u001b[0m eta \u001b[36m0:00:00\u001b[0m\n",
            "\u001b[?25hRequirement already satisfied: filelock<4,>=3.12.2 in /usr/local/lib/python3.10/dist-packages (from virtualenv) (3.13.1)\n",
            "Requirement already satisfied: platformdirs<5,>=3.9.1 in /usr/local/lib/python3.10/dist-packages (from virtualenv) (4.1.0)\n",
            "Installing collected packages: distlib, virtualenv\n",
            "Successfully installed distlib-0.3.8 virtualenv-20.25.0\n",
            "created virtual environment CPython3.10.12.final.0-64 in 1102ms\n",
            "  creator CPython3Posix(dest=/content/supervision/examples/speed_estimation/venv, clear=False, no_vcs_ignore=False, global=False)\n",
            "  seeder FromAppData(download=False, pip=bundle, setuptools=bundle, wheel=bundle, via=copy, app_data_dir=/root/.local/share/virtualenv)\n",
            "    added seed packages: pip==23.3.1, setuptools==69.0.2, wheel==0.42.0\n",
            "  activators BashActivator,CShellActivator,FishActivator,NushellActivator,PowerShellActivator,PythonActivator\n"
          ]
        }
      ]
    },
    {
      "cell_type": "code",
      "source": [
        "!pip install -r /content/supervision/examples/tracking/requirements.txt"
      ],
      "metadata": {
        "colab": {
          "base_uri": "https://localhost:8080/"
        },
        "id": "antcA5YTi73H",
        "outputId": "49d99037-a122-4dbb-b482-903cc5d1d12c"
      },
      "execution_count": 4,
      "outputs": [
        {
          "output_type": "stream",
          "name": "stdout",
          "text": [
            "Requirement already satisfied: inference in /usr/local/lib/python3.10/dist-packages (from -r /content/supervision/examples/tracking/requirements.txt (line 1)) (0.9.8)\n",
            "Requirement already satisfied: supervision in /usr/local/lib/python3.10/dist-packages (from -r /content/supervision/examples/tracking/requirements.txt (line 2)) (0.18.0rc1)\n",
            "Requirement already satisfied: tqdm in /usr/local/lib/python3.10/dist-packages (from -r /content/supervision/examples/tracking/requirements.txt (line 3)) (4.66.1)\n",
            "Requirement already satisfied: ultralytics in /usr/local/lib/python3.10/dist-packages (from -r /content/supervision/examples/tracking/requirements.txt (line 4)) (8.1.0)\n",
            "Requirement already satisfied: APScheduler<=3.10.1 in /usr/local/lib/python3.10/dist-packages (from inference->-r /content/supervision/examples/tracking/requirements.txt (line 1)) (3.10.1)\n",
            "Requirement already satisfied: cython<=3.0.0 in /usr/local/lib/python3.10/dist-packages (from inference->-r /content/supervision/examples/tracking/requirements.txt (line 1)) (3.0.0)\n",
            "Requirement already satisfied: python-dotenv<=2.0.0 in /usr/local/lib/python3.10/dist-packages (from inference->-r /content/supervision/examples/tracking/requirements.txt (line 1)) (1.0.0)\n",
            "Requirement already satisfied: fastapi<=0.96 in /usr/local/lib/python3.10/dist-packages (from inference->-r /content/supervision/examples/tracking/requirements.txt (line 1)) (0.96.0)\n",
            "Requirement already satisfied: numpy<=1.25.2 in /usr/local/lib/python3.10/dist-packages (from inference->-r /content/supervision/examples/tracking/requirements.txt (line 1)) (1.23.0)\n",
            "Requirement already satisfied: opencv-python<=4.8.0.76 in /usr/local/lib/python3.10/dist-packages (from inference->-r /content/supervision/examples/tracking/requirements.txt (line 1)) (4.8.0.76)\n",
            "Requirement already satisfied: piexif<=1.1.3 in /usr/local/lib/python3.10/dist-packages (from inference->-r /content/supervision/examples/tracking/requirements.txt (line 1)) (1.1.3)\n",
            "Requirement already satisfied: pillow<11.0 in /usr/local/lib/python3.10/dist-packages (from inference->-r /content/supervision/examples/tracking/requirements.txt (line 1)) (9.4.0)\n",
            "Requirement already satisfied: prometheus-fastapi-instrumentator<=6.0.0 in /usr/local/lib/python3.10/dist-packages (from inference->-r /content/supervision/examples/tracking/requirements.txt (line 1)) (6.0.0)\n",
            "Requirement already satisfied: redis<6.0.0 in /usr/local/lib/python3.10/dist-packages (from inference->-r /content/supervision/examples/tracking/requirements.txt (line 1)) (5.0.1)\n",
            "Requirement already satisfied: requests>=2.26.0 in /usr/local/lib/python3.10/dist-packages (from inference->-r /content/supervision/examples/tracking/requirements.txt (line 1)) (2.31.0)\n",
            "Requirement already satisfied: rich<=13.5.2 in /usr/local/lib/python3.10/dist-packages (from inference->-r /content/supervision/examples/tracking/requirements.txt (line 1)) (13.5.2)\n",
            "Requirement already satisfied: shapely<=2.0.1 in /usr/local/lib/python3.10/dist-packages (from inference->-r /content/supervision/examples/tracking/requirements.txt (line 1)) (2.0.1)\n",
            "Requirement already satisfied: pybase64<2.0.0 in /usr/local/lib/python3.10/dist-packages (from inference->-r /content/supervision/examples/tracking/requirements.txt (line 1)) (1.3.2)\n",
            "Requirement already satisfied: scikit-image>=0.19.0 in /usr/local/lib/python3.10/dist-packages (from inference->-r /content/supervision/examples/tracking/requirements.txt (line 1)) (0.19.3)\n",
            "Requirement already satisfied: requests-toolbelt>=1.0.0 in /usr/local/lib/python3.10/dist-packages (from inference->-r /content/supervision/examples/tracking/requirements.txt (line 1)) (1.0.0)\n",
            "Requirement already satisfied: wheel>=0.38.1 in /usr/local/lib/python3.10/dist-packages (from inference->-r /content/supervision/examples/tracking/requirements.txt (line 1)) (0.42.0)\n",
            "Requirement already satisfied: setuptools>=65.5.1 in /usr/local/lib/python3.10/dist-packages (from inference->-r /content/supervision/examples/tracking/requirements.txt (line 1)) (67.7.2)\n",
            "Requirement already satisfied: pytest-asyncio<=0.21.1 in /usr/local/lib/python3.10/dist-packages (from inference->-r /content/supervision/examples/tracking/requirements.txt (line 1)) (0.21.1)\n",
            "Requirement already satisfied: docker==6.1.3 in /usr/local/lib/python3.10/dist-packages (from inference->-r /content/supervision/examples/tracking/requirements.txt (line 1)) (6.1.3)\n",
            "Requirement already satisfied: typer==0.9.0 in /usr/local/lib/python3.10/dist-packages (from inference->-r /content/supervision/examples/tracking/requirements.txt (line 1)) (0.9.0)\n",
            "Requirement already satisfied: onnxruntime<=1.15.1 in /usr/local/lib/python3.10/dist-packages (from inference->-r /content/supervision/examples/tracking/requirements.txt (line 1)) (1.13.1)\n",
            "Requirement already satisfied: GPUtil==1.4.0 in /usr/local/lib/python3.10/dist-packages (from inference->-r /content/supervision/examples/tracking/requirements.txt (line 1)) (1.4.0)\n",
            "Requirement already satisfied: packaging>=14.0 in /usr/local/lib/python3.10/dist-packages (from docker==6.1.3->inference->-r /content/supervision/examples/tracking/requirements.txt (line 1)) (23.2)\n",
            "Requirement already satisfied: urllib3>=1.26.0 in /usr/local/lib/python3.10/dist-packages (from docker==6.1.3->inference->-r /content/supervision/examples/tracking/requirements.txt (line 1)) (2.0.7)\n",
            "Requirement already satisfied: websocket-client>=0.32.0 in /usr/local/lib/python3.10/dist-packages (from docker==6.1.3->inference->-r /content/supervision/examples/tracking/requirements.txt (line 1)) (1.7.0)\n",
            "Requirement already satisfied: click<9.0.0,>=7.1.1 in /usr/local/lib/python3.10/dist-packages (from typer==0.9.0->inference->-r /content/supervision/examples/tracking/requirements.txt (line 1)) (8.1.7)\n",
            "Requirement already satisfied: typing-extensions>=3.7.4.3 in /usr/local/lib/python3.10/dist-packages (from typer==0.9.0->inference->-r /content/supervision/examples/tracking/requirements.txt (line 1)) (4.5.0)\n",
            "Requirement already satisfied: defusedxml<0.8.0,>=0.7.1 in /usr/local/lib/python3.10/dist-packages (from supervision->-r /content/supervision/examples/tracking/requirements.txt (line 2)) (0.7.1)\n",
            "Requirement already satisfied: matplotlib>=3.5.0 in /usr/local/lib/python3.10/dist-packages (from supervision->-r /content/supervision/examples/tracking/requirements.txt (line 2)) (3.7.1)\n",
            "Requirement already satisfied: opencv-python-headless<=4.8.1.78,>=4.5.5.64 in /usr/local/lib/python3.10/dist-packages (from supervision->-r /content/supervision/examples/tracking/requirements.txt (line 2)) (4.8.1.78)\n",
            "Requirement already satisfied: pyyaml>=5.3 in /usr/local/lib/python3.10/dist-packages (from supervision->-r /content/supervision/examples/tracking/requirements.txt (line 2)) (6.0.1)\n",
            "Requirement already satisfied: scipy>=1.9.0 in /usr/local/lib/python3.10/dist-packages (from supervision->-r /content/supervision/examples/tracking/requirements.txt (line 2)) (1.11.4)\n",
            "Requirement already satisfied: torch>=1.8.0 in /usr/local/lib/python3.10/dist-packages (from ultralytics->-r /content/supervision/examples/tracking/requirements.txt (line 4)) (2.1.0+cu121)\n",
            "Requirement already satisfied: torchvision>=0.9.0 in /usr/local/lib/python3.10/dist-packages (from ultralytics->-r /content/supervision/examples/tracking/requirements.txt (line 4)) (0.16.0+cu121)\n",
            "Requirement already satisfied: psutil in /usr/local/lib/python3.10/dist-packages (from ultralytics->-r /content/supervision/examples/tracking/requirements.txt (line 4)) (5.9.5)\n",
            "Requirement already satisfied: py-cpuinfo in /usr/local/lib/python3.10/dist-packages (from ultralytics->-r /content/supervision/examples/tracking/requirements.txt (line 4)) (9.0.0)\n",
            "Requirement already satisfied: thop>=0.1.1 in /usr/local/lib/python3.10/dist-packages (from ultralytics->-r /content/supervision/examples/tracking/requirements.txt (line 4)) (0.1.1.post2209072238)\n",
            "Requirement already satisfied: pandas>=1.1.4 in /usr/local/lib/python3.10/dist-packages (from ultralytics->-r /content/supervision/examples/tracking/requirements.txt (line 4)) (1.5.3)\n",
            "Requirement already satisfied: seaborn>=0.11.0 in /usr/local/lib/python3.10/dist-packages (from ultralytics->-r /content/supervision/examples/tracking/requirements.txt (line 4)) (0.12.2)\n",
            "Requirement already satisfied: hub-sdk>=0.0.2 in /usr/local/lib/python3.10/dist-packages (from ultralytics->-r /content/supervision/examples/tracking/requirements.txt (line 4)) (0.0.3)\n",
            "Requirement already satisfied: six>=1.4.0 in /usr/local/lib/python3.10/dist-packages (from APScheduler<=3.10.1->inference->-r /content/supervision/examples/tracking/requirements.txt (line 1)) (1.16.0)\n",
            "Requirement already satisfied: pytz in /usr/local/lib/python3.10/dist-packages (from APScheduler<=3.10.1->inference->-r /content/supervision/examples/tracking/requirements.txt (line 1)) (2023.3.post1)\n",
            "Requirement already satisfied: tzlocal!=3.*,>=2.0 in /usr/local/lib/python3.10/dist-packages (from APScheduler<=3.10.1->inference->-r /content/supervision/examples/tracking/requirements.txt (line 1)) (5.2)\n",
            "Requirement already satisfied: pydantic!=1.7,!=1.7.1,!=1.7.2,!=1.7.3,!=1.8,!=1.8.1,<2.0.0,>=1.6.2 in /usr/local/lib/python3.10/dist-packages (from fastapi<=0.96->inference->-r /content/supervision/examples/tracking/requirements.txt (line 1)) (1.10.13)\n",
            "Requirement already satisfied: starlette<0.28.0,>=0.27.0 in /usr/local/lib/python3.10/dist-packages (from fastapi<=0.96->inference->-r /content/supervision/examples/tracking/requirements.txt (line 1)) (0.27.0)\n",
            "Requirement already satisfied: contourpy>=1.0.1 in /usr/local/lib/python3.10/dist-packages (from matplotlib>=3.5.0->supervision->-r /content/supervision/examples/tracking/requirements.txt (line 2)) (1.2.0)\n",
            "Requirement already satisfied: cycler>=0.10 in /usr/local/lib/python3.10/dist-packages (from matplotlib>=3.5.0->supervision->-r /content/supervision/examples/tracking/requirements.txt (line 2)) (0.12.1)\n",
            "Requirement already satisfied: fonttools>=4.22.0 in /usr/local/lib/python3.10/dist-packages (from matplotlib>=3.5.0->supervision->-r /content/supervision/examples/tracking/requirements.txt (line 2)) (4.47.0)\n",
            "Requirement already satisfied: kiwisolver>=1.0.1 in /usr/local/lib/python3.10/dist-packages (from matplotlib>=3.5.0->supervision->-r /content/supervision/examples/tracking/requirements.txt (line 2)) (1.4.5)\n",
            "Requirement already satisfied: pyparsing>=2.3.1 in /usr/local/lib/python3.10/dist-packages (from matplotlib>=3.5.0->supervision->-r /content/supervision/examples/tracking/requirements.txt (line 2)) (2.4.5)\n",
            "Requirement already satisfied: python-dateutil>=2.7 in /usr/local/lib/python3.10/dist-packages (from matplotlib>=3.5.0->supervision->-r /content/supervision/examples/tracking/requirements.txt (line 2)) (2.8.2)\n",
            "Requirement already satisfied: coloredlogs in /usr/local/lib/python3.10/dist-packages (from onnxruntime<=1.15.1->inference->-r /content/supervision/examples/tracking/requirements.txt (line 1)) (15.0.1)\n",
            "Requirement already satisfied: flatbuffers in /usr/local/lib/python3.10/dist-packages (from onnxruntime<=1.15.1->inference->-r /content/supervision/examples/tracking/requirements.txt (line 1)) (23.5.26)\n",
            "Requirement already satisfied: protobuf in /usr/local/lib/python3.10/dist-packages (from onnxruntime<=1.15.1->inference->-r /content/supervision/examples/tracking/requirements.txt (line 1)) (3.20.3)\n",
            "Requirement already satisfied: sympy in /usr/local/lib/python3.10/dist-packages (from onnxruntime<=1.15.1->inference->-r /content/supervision/examples/tracking/requirements.txt (line 1)) (1.12)\n",
            "Requirement already satisfied: prometheus-client<1.0.0,>=0.8.0 in /usr/local/lib/python3.10/dist-packages (from prometheus-fastapi-instrumentator<=6.0.0->inference->-r /content/supervision/examples/tracking/requirements.txt (line 1)) (0.19.0)\n",
            "Requirement already satisfied: pytest>=7.0.0 in /usr/local/lib/python3.10/dist-packages (from pytest-asyncio<=0.21.1->inference->-r /content/supervision/examples/tracking/requirements.txt (line 1)) (7.4.4)\n",
            "Requirement already satisfied: async-timeout>=4.0.2 in /usr/local/lib/python3.10/dist-packages (from redis<6.0.0->inference->-r /content/supervision/examples/tracking/requirements.txt (line 1)) (4.0.3)\n",
            "Requirement already satisfied: charset-normalizer<4,>=2 in /usr/local/lib/python3.10/dist-packages (from requests>=2.26.0->inference->-r /content/supervision/examples/tracking/requirements.txt (line 1)) (3.3.2)\n",
            "Requirement already satisfied: idna<4,>=2.5 in /usr/local/lib/python3.10/dist-packages (from requests>=2.26.0->inference->-r /content/supervision/examples/tracking/requirements.txt (line 1)) (3.6)\n",
            "Requirement already satisfied: certifi>=2017.4.17 in /usr/local/lib/python3.10/dist-packages (from requests>=2.26.0->inference->-r /content/supervision/examples/tracking/requirements.txt (line 1)) (2023.11.17)\n",
            "Requirement already satisfied: markdown-it-py>=2.2.0 in /usr/local/lib/python3.10/dist-packages (from rich<=13.5.2->inference->-r /content/supervision/examples/tracking/requirements.txt (line 1)) (3.0.0)\n",
            "Requirement already satisfied: pygments<3.0.0,>=2.13.0 in /usr/local/lib/python3.10/dist-packages (from rich<=13.5.2->inference->-r /content/supervision/examples/tracking/requirements.txt (line 1)) (2.16.1)\n",
            "Requirement already satisfied: networkx>=2.2 in /usr/local/lib/python3.10/dist-packages (from scikit-image>=0.19.0->inference->-r /content/supervision/examples/tracking/requirements.txt (line 1)) (3.2.1)\n",
            "Requirement already satisfied: imageio>=2.4.1 in /usr/local/lib/python3.10/dist-packages (from scikit-image>=0.19.0->inference->-r /content/supervision/examples/tracking/requirements.txt (line 1)) (2.31.6)\n",
            "Requirement already satisfied: tifffile>=2019.7.26 in /usr/local/lib/python3.10/dist-packages (from scikit-image>=0.19.0->inference->-r /content/supervision/examples/tracking/requirements.txt (line 1)) (2023.12.9)\n",
            "Requirement already satisfied: PyWavelets>=1.1.1 in /usr/local/lib/python3.10/dist-packages (from scikit-image>=0.19.0->inference->-r /content/supervision/examples/tracking/requirements.txt (line 1)) (1.5.0)\n",
            "Requirement already satisfied: filelock in /usr/local/lib/python3.10/dist-packages (from torch>=1.8.0->ultralytics->-r /content/supervision/examples/tracking/requirements.txt (line 4)) (3.13.1)\n",
            "Requirement already satisfied: jinja2 in /usr/local/lib/python3.10/dist-packages (from torch>=1.8.0->ultralytics->-r /content/supervision/examples/tracking/requirements.txt (line 4)) (3.1.2)\n",
            "Requirement already satisfied: fsspec in /usr/local/lib/python3.10/dist-packages (from torch>=1.8.0->ultralytics->-r /content/supervision/examples/tracking/requirements.txt (line 4)) (2023.6.0)\n",
            "Requirement already satisfied: triton==2.1.0 in /usr/local/lib/python3.10/dist-packages (from torch>=1.8.0->ultralytics->-r /content/supervision/examples/tracking/requirements.txt (line 4)) (2.1.0)\n",
            "Requirement already satisfied: mdurl~=0.1 in /usr/local/lib/python3.10/dist-packages (from markdown-it-py>=2.2.0->rich<=13.5.2->inference->-r /content/supervision/examples/tracking/requirements.txt (line 1)) (0.1.2)\n",
            "Requirement already satisfied: iniconfig in /usr/local/lib/python3.10/dist-packages (from pytest>=7.0.0->pytest-asyncio<=0.21.1->inference->-r /content/supervision/examples/tracking/requirements.txt (line 1)) (2.0.0)\n",
            "Requirement already satisfied: pluggy<2.0,>=0.12 in /usr/local/lib/python3.10/dist-packages (from pytest>=7.0.0->pytest-asyncio<=0.21.1->inference->-r /content/supervision/examples/tracking/requirements.txt (line 1)) (1.3.0)\n",
            "Requirement already satisfied: exceptiongroup>=1.0.0rc8 in /usr/local/lib/python3.10/dist-packages (from pytest>=7.0.0->pytest-asyncio<=0.21.1->inference->-r /content/supervision/examples/tracking/requirements.txt (line 1)) (1.2.0)\n",
            "Requirement already satisfied: tomli>=1.0.0 in /usr/local/lib/python3.10/dist-packages (from pytest>=7.0.0->pytest-asyncio<=0.21.1->inference->-r /content/supervision/examples/tracking/requirements.txt (line 1)) (2.0.1)\n",
            "Requirement already satisfied: anyio<5,>=3.4.0 in /usr/local/lib/python3.10/dist-packages (from starlette<0.28.0,>=0.27.0->fastapi<=0.96->inference->-r /content/supervision/examples/tracking/requirements.txt (line 1)) (3.7.1)\n",
            "Requirement already satisfied: humanfriendly>=9.1 in /usr/local/lib/python3.10/dist-packages (from coloredlogs->onnxruntime<=1.15.1->inference->-r /content/supervision/examples/tracking/requirements.txt (line 1)) (10.0)\n",
            "Requirement already satisfied: MarkupSafe>=2.0 in /usr/local/lib/python3.10/dist-packages (from jinja2->torch>=1.8.0->ultralytics->-r /content/supervision/examples/tracking/requirements.txt (line 4)) (2.1.3)\n",
            "Requirement already satisfied: mpmath>=0.19 in /usr/local/lib/python3.10/dist-packages (from sympy->onnxruntime<=1.15.1->inference->-r /content/supervision/examples/tracking/requirements.txt (line 1)) (1.3.0)\n",
            "Requirement already satisfied: sniffio>=1.1 in /usr/local/lib/python3.10/dist-packages (from anyio<5,>=3.4.0->starlette<0.28.0,>=0.27.0->fastapi<=0.96->inference->-r /content/supervision/examples/tracking/requirements.txt (line 1)) (1.3.0)\n"
          ]
        }
      ]
    },
    {
      "cell_type": "code",
      "source": [
        "!pwd"
      ],
      "metadata": {
        "colab": {
          "base_uri": "https://localhost:8080/"
        },
        "id": "xW5-Itepk2Ve",
        "outputId": "21a24fcc-49b2-4aa9-eeec-9c06b4bfb20c"
      },
      "execution_count": 1,
      "outputs": [
        {
          "output_type": "stream",
          "name": "stdout",
          "text": [
            "/content\n"
          ]
        }
      ]
    },
    {
      "cell_type": "code",
      "source": [
        "%cd /content/supervision/examples/speed_estimation"
      ],
      "metadata": {
        "colab": {
          "base_uri": "https://localhost:8080/"
        },
        "id": "us17KKB0l7Vn",
        "outputId": "9009f21f-a582-489e-9a90-6b1a52479905"
      },
      "execution_count": 5,
      "outputs": [
        {
          "output_type": "stream",
          "name": "stdout",
          "text": [
            "/content/supervision/examples/speed_estimation\n"
          ]
        }
      ]
    },
    {
      "cell_type": "code",
      "source": [
        "!python3 video_downloader.py"
      ],
      "metadata": {
        "colab": {
          "base_uri": "https://localhost:8080/"
        },
        "id": "RIhUgKsUkrBi",
        "outputId": "cd53a84b-b8ed-46dd-ce50-bdd9236e2fe7"
      },
      "execution_count": 6,
      "outputs": [
        {
          "output_type": "stream",
          "name": "stdout",
          "text": [
            "Downloading vehicles.mp4 assets \n",
            "\n",
            "100% 33.7M/33.7M [00:00<00:00, 70.8MB/s]\n"
          ]
        }
      ]
    },
    {
      "cell_type": "code",
      "source": [
        "!cp /content/supervision/examples/heatmap_and_track/script.py /content/supervision/examples/speed_estimation"
      ],
      "metadata": {
        "id": "uKIzLQX6mzAy"
      },
      "execution_count": 7,
      "outputs": []
    },
    {
      "cell_type": "code",
      "source": [
        "!python /content/supervision/examples/speed_estimation/yolo_nas_example.py \\\n",
        "  --source_video_path /content/supervision/examples/speed_estimation/data/vehicles.mp4 \\\n",
        "  --target_video_path /content/supervision/examples/speed_estimation/video_2-result.mp4 \\\n",
        "  --confidence_threshold 0.3 \\\n",
        "  --iou_threshold 0.5"
      ],
      "metadata": {
        "id": "oN4LefXznR6A"
      },
      "execution_count": null,
      "outputs": []
    },
    {
      "cell_type": "code",
      "source": [
        "!python /content/supervision/examples/speed_estimation/yolo_nas_example.py \\\n",
        "  --source_video_path /content/supervision/examples/speed_estimation/data/video_2.mp4 \\\n",
        "  --target_video_path /content/supervision/examples/speed_estimation/video_2-result.mp4 \\\n",
        "  --confidence_threshold 0.3 \\\n",
        "  --iou_threshold 0.5"
      ],
      "metadata": {
        "id": "yE3QutdRni0x"
      },
      "execution_count": null,
      "outputs": []
    },
    {
      "cell_type": "code",
      "source": [
        " !python inference_example.py \\\n",
        "  --roboflow_api_key <ROBOFLOW API KEY> \\\n",
        "  --source_video_path data/vehicles.mp4 \\\n",
        "  --target_video_path data/vehicles-result.mp4 \\\n",
        "  --confidence_threshold 0.3 \\\n",
        "  --iou_threshold 0.5"
      ],
      "metadata": {
        "id": "BFKyrGJCnsGh"
      },
      "execution_count": null,
      "outputs": []
    },
    {
      "cell_type": "code",
      "source": [
        "  !python ultralytics_example.py \\\n",
        "   --source_video_path /content/supervision/examples/speed_estimation/data/vehicles.mp4 \\\n",
        "   --target_video_path /content/supervision/examples/speed_estimation/video_ultra-result.mp4 \\\n",
        "   --confidence_threshold 0.3 \\\n",
        "   --iou_threshold 0.5"
      ],
      "metadata": {
        "id": "cn6fs8_VxZwZ"
      },
      "execution_count": null,
      "outputs": []
    }
  ]
}